{
 "cells": [
  {
   "cell_type": "code",
   "execution_count": 25,
   "metadata": {},
   "outputs": [],
   "source": [
    "with open(\"input\", \"r\") as file:\n",
    "    data = file.read()\n",
    "    fish = {\n",
    "        0: data.count(str(0)),\n",
    "        1: data.count(str(1)),\n",
    "        2: data.count(str(2)),\n",
    "        3: data.count(str(3)),\n",
    "        4: data.count(str(4)),\n",
    "        5: data.count(str(5)),\n",
    "        6: data.count(str(6)),\n",
    "        7: data.count(str(7)),\n",
    "        8: data.count(str(8)),\n",
    "    }"
   ]
  },
  {
   "cell_type": "code",
   "execution_count": 29,
   "metadata": {},
   "outputs": [
    {
     "name": "stdout",
     "output_type": "stream",
     "text": [
      "1746710169834\n"
     ]
    }
   ],
   "source": [
    "def age_fish(fish: dict, days: int) -> None:\n",
    "    for _ in range(days):\n",
    "        fish = {\n",
    "            0: fish[1],\n",
    "            1: fish[2],\n",
    "            2: fish[3],\n",
    "            3: fish[4],\n",
    "            4: fish[5],\n",
    "            5: fish[6],\n",
    "            6: fish[7] + fish[0],\n",
    "            7: fish[8],\n",
    "            8: fish[0],\n",
    "        }\n",
    "        # print(fish)\n",
    "    return sum(fish.values())\n",
    "\n",
    "print(age_fish(fish, 256))"
   ]
  }
 ],
 "metadata": {
  "interpreter": {
   "hash": "f1447cf8c7d2ad8b08d00c5e411871fbd86c136a1d89a13f2589c48e290f7ee6"
  },
  "kernelspec": {
   "display_name": "Python 3.9.9 64-bit ('venv': venv)",
   "language": "python",
   "name": "python3"
  },
  "language_info": {
   "codemirror_mode": {
    "name": "ipython",
    "version": 3
   },
   "file_extension": ".py",
   "mimetype": "text/x-python",
   "name": "python",
   "nbconvert_exporter": "python",
   "pygments_lexer": "ipython3",
   "version": "3.9.9"
  },
  "orig_nbformat": 4
 },
 "nbformat": 4,
 "nbformat_minor": 2
}
