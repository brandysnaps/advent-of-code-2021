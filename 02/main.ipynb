{
 "cells": [
  {
   "cell_type": "markdown",
   "metadata": {},
   "source": [
    "### Part 1"
   ]
  },
  {
   "cell_type": "code",
   "execution_count": 34,
   "metadata": {},
   "outputs": [
    {
     "name": "stdout",
     "output_type": "stream",
     "text": [
      "Answer: 1813801\n"
     ]
    }
   ],
   "source": [
    "class Submarine:\n",
    "    def __init__(self):\n",
    "        self.horizontal_position = 0\n",
    "        self.depth = 0\n",
    "\n",
    "    def up(self, amount):\n",
    "        self.depth -= amount\n",
    "\n",
    "    def down(self, amount):\n",
    "        self.depth += amount\n",
    "\n",
    "    def forward(self, amount):\n",
    "        self.horizontal_position += amount\n",
    "\n",
    "    def move(self, direction, amount):\n",
    "        {\n",
    "            \"up\": self.up,\n",
    "            \"down\": self.down,\n",
    "            \"forward\": self.forward\n",
    "        }[direction](amount)\n",
    "\n",
    "sub = Submarine()\n",
    "\n",
    "with open(\"input\", \"r\") as input:\n",
    "    for instruction in input:\n",
    "        direction, amount = instruction.strip().split(\" \")\n",
    "        sub.move(direction, int(amount))\n",
    "\n",
    "print(f\"Answer: { sub.horizontal_position * sub.depth }\")\n"
   ]
  },
  {
   "cell_type": "markdown",
   "metadata": {},
   "source": [
    "### Part 2"
   ]
  },
  {
   "cell_type": "code",
   "execution_count": 36,
   "metadata": {},
   "outputs": [
    {
     "name": "stdout",
     "output_type": "stream",
     "text": [
      "Answer: 1960569556\n"
     ]
    }
   ],
   "source": [
    "class Submarine:\n",
    "    def __init__(self):\n",
    "        self.aim = 0\n",
    "        self.depth = 0\n",
    "        self.horizontal_position = 0\n",
    "\n",
    "    def up(self, amount):\n",
    "        self.aim -= amount\n",
    "\n",
    "    def down(self, amount):\n",
    "        self.aim += amount\n",
    "\n",
    "    def forward(self, amount):\n",
    "        self.horizontal_position += amount\n",
    "        self.depth += self.aim * amount\n",
    "\n",
    "    def move(self, direction, amount):\n",
    "        {\n",
    "            \"up\": self.up,\n",
    "            \"down\": self.down,\n",
    "            \"forward\": self.forward\n",
    "        }[direction](amount)\n",
    "\n",
    "sub = Submarine()\n",
    "\n",
    "with open(\"input\", \"r\") as input:\n",
    "    for instruction in input:\n",
    "        direction, amount = instruction.strip().split(\" \")\n",
    "        sub.move(direction, int(amount))\n",
    "\n",
    "print(f\"Answer: { sub.horizontal_position * sub.depth }\")"
   ]
  }
 ],
 "metadata": {
  "interpreter": {
   "hash": "f9f85f796d01129d0dd105a088854619f454435301f6ffec2fea96ecbd9be4ac"
  },
  "kernelspec": {
   "display_name": "Python 3.9.9 64-bit",
   "language": "python",
   "name": "python3"
  },
  "language_info": {
   "codemirror_mode": {
    "name": "ipython",
    "version": 3
   },
   "file_extension": ".py",
   "mimetype": "text/x-python",
   "name": "python",
   "nbconvert_exporter": "python",
   "pygments_lexer": "ipython3",
   "version": "3.9.9"
  },
  "orig_nbformat": 4
 },
 "nbformat": 4,
 "nbformat_minor": 2
}
