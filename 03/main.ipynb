{
 "cells": [
  {
   "cell_type": "markdown",
   "metadata": {},
   "source": [
    "### Part 1"
   ]
  },
  {
   "cell_type": "code",
   "execution_count": 100,
   "metadata": {},
   "outputs": [
    {
     "name": "stdout",
     "output_type": "stream",
     "text": [
      "Answer: 3429254\n"
     ]
    }
   ],
   "source": [
    "num_bits = 12\n",
    "count = 0\n",
    "bit_sums = {}\n",
    "gamma_rate = \"\"\n",
    "epsilon_rate = \"\"\n",
    "\n",
    "def initialize_bit_sums_dict():\n",
    "    global num_bits, count, bit_sums\n",
    "    for i in range(num_bits):\n",
    "        bit_sums[i] = 0\n",
    "\n",
    "def calculate_bit_sums():\n",
    "    global num_bits, count, bit_sums\n",
    "    with open(\"input\", \"r\") as file:\n",
    "        for line in file:\n",
    "            count += 1\n",
    "            for i in range(num_bits):\n",
    "                bit_sums[i] += int(line[i])\n",
    "\n",
    "def calculate_gamma_and_epsilon_rates():\n",
    "    global num_bits, count, bit_sums, gamma_rate, epsilon_rate\n",
    "    for i in range(num_bits):\n",
    "        if bit_sums[i] > count / 2:\n",
    "            gamma_rate += \"1\"\n",
    "            epsilon_rate += \"0\"\n",
    "        else:\n",
    "            gamma_rate += \"0\"\n",
    "            epsilon_rate += \"1\"\n",
    "\n",
    "initialize_bit_sums_dict()\n",
    "calculate_bit_sums()\n",
    "calculate_gamma_and_epsilon_rates()\n",
    "print(f\"Answer: {int(gamma_rate, 2) * int(epsilon_rate, 2)}\")"
   ]
  },
  {
   "cell_type": "markdown",
   "metadata": {},
   "source": [
    "### Part 2"
   ]
  },
  {
   "cell_type": "code",
   "execution_count": 99,
   "metadata": {},
   "outputs": [
    {
     "name": "stdout",
     "output_type": "stream",
     "text": [
      "Oxygen generator rating: 1471\n",
      "CO2 scrubber rating: 3678\n",
      "Life support rating: 5410338\n"
     ]
    }
   ],
   "source": [
    "def find_most_common_bit(input: list, index: int, default: bool) -> str:\n",
    "    count = len(input)\n",
    "    bit_sum = 0\n",
    "    for i in input:\n",
    "        if i[index] == \"1\":\n",
    "            bit_sum += 1\n",
    "\n",
    "    if bit_sum >= count / 2:\n",
    "        return str(int(default))\n",
    "    else:\n",
    "        return str(int(not default))\n",
    "\n",
    "\n",
    "def find_oxygen_generator_rating(input: list, index: int = 0) -> str:\n",
    "    count = len(input)\n",
    "\n",
    "    if count == 1:\n",
    "        return input[0]\n",
    "    else:\n",
    "        most_common_bit = find_most_common_bit(input, index, default = 1)\n",
    "        new_input = [x for x in input if x[index] == most_common_bit]\n",
    "        index += 1\n",
    "        return find_oxygen_generator_rating(new_input, index)\n",
    "\n",
    "def find_co2_scrubber_rating(input: list, index: int = 0) -> str:\n",
    "    count = len(input)\n",
    "\n",
    "    if count == 1:\n",
    "        return input[0]\n",
    "    else:\n",
    "        most_common_bit = find_most_common_bit(input, index, default = 0)\n",
    "        new_input = [x for x in input if x[index] == most_common_bit]\n",
    "        index += 1\n",
    "        return find_co2_scrubber_rating(new_input, index)\n",
    "\n",
    "with open(\"input\", \"r\") as file:\n",
    "    input = [line.strip() for line in file.readlines()]\n",
    "    \n",
    "oxygen_generator_rating = int(find_oxygen_generator_rating(input), 2)\n",
    "co2_scrubber_rating = int(find_co2_scrubber_rating(input), 2)\n",
    "print(f\"Oxygen generator rating: {oxygen_generator_rating}\")\n",
    "print(f\"CO2 scrubber rating: {co2_scrubber_rating}\")\n",
    "print(f\"Life support rating: {oxygen_generator_rating * co2_scrubber_rating}\")"
   ]
  }
 ],
 "metadata": {
  "interpreter": {
   "hash": "f9f85f796d01129d0dd105a088854619f454435301f6ffec2fea96ecbd9be4ac"
  },
  "kernelspec": {
   "display_name": "Python 3.9.9 64-bit",
   "language": "python",
   "name": "python3"
  },
  "language_info": {
   "codemirror_mode": {
    "name": "ipython",
    "version": 3
   },
   "file_extension": ".py",
   "mimetype": "text/x-python",
   "name": "python",
   "nbconvert_exporter": "python",
   "pygments_lexer": "ipython3",
   "version": "3.9.9"
  },
  "orig_nbformat": 4
 },
 "nbformat": 4,
 "nbformat_minor": 2
}
