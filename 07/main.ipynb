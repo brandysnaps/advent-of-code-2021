{
 "cells": [
  {
   "cell_type": "code",
   "execution_count": 72,
   "metadata": {},
   "outputs": [],
   "source": [
    "with open(\"input\", \"r\") as file:\n",
    "    data = [int(i) for i in file.readline().strip().split(\",\")]"
   ]
  },
  {
   "cell_type": "code",
   "execution_count": 73,
   "metadata": {},
   "outputs": [
    {
     "name": "stdout",
     "output_type": "stream",
     "text": [
      "Part 1:\n",
      "335271\n"
     ]
    }
   ],
   "source": [
    "import statistics\n",
    "\n",
    "median = int(statistics.median(data))\n",
    "\n",
    "distances = [abs(i - median) for i in data]\n",
    "print(\"Part 1:\")\n",
    "print(sum(distances))"
   ]
  },
  {
   "cell_type": "code",
   "execution_count": 74,
   "metadata": {},
   "outputs": [
    {
     "name": "stdout",
     "output_type": "stream",
     "text": [
      "Part 2:\n",
      "95851339\n"
     ]
    }
   ],
   "source": [
    "import math\n",
    "\n",
    "def summation(n: int) -> int:\n",
    "    return n * (n + 1) // 2\n",
    "\n",
    "lowest_cost = math.inf\n",
    "\n",
    "horizontal_range = range(min(data), max(data))\n",
    "\n",
    "for n in horizontal_range:\n",
    "    cost = sum([summation(abs(i - n)) for i in data])\n",
    "    lowest_cost = min([lowest_cost, cost])\n",
    "print(\"Part 2:\")\n",
    "print(lowest_cost)"
   ]
  }
 ],
 "metadata": {
  "interpreter": {
   "hash": "f1447cf8c7d2ad8b08d00c5e411871fbd86c136a1d89a13f2589c48e290f7ee6"
  },
  "kernelspec": {
   "display_name": "Python 3.9.9 64-bit ('venv': venv)",
   "language": "python",
   "name": "python3"
  },
  "language_info": {
   "codemirror_mode": {
    "name": "ipython",
    "version": 3
   },
   "file_extension": ".py",
   "mimetype": "text/x-python",
   "name": "python",
   "nbconvert_exporter": "python",
   "pygments_lexer": "ipython3",
   "version": "3.9.9"
  },
  "orig_nbformat": 4
 },
 "nbformat": 4,
 "nbformat_minor": 2
}
