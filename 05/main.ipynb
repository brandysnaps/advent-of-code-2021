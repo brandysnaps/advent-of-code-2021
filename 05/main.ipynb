{
 "cells": [
  {
   "cell_type": "code",
   "execution_count": 343,
   "metadata": {},
   "outputs": [],
   "source": [
    "import re\n",
    "\n",
    "def process_input(input: list) -> list:\n",
    "    lines = []\n",
    "    \n",
    "    re_expression = r\"(\\d+),(\\d+) -> (\\d+),(\\d+)\"\n",
    "\n",
    "    for line in input:\n",
    "        re_match = re.match(re_expression, line)\n",
    "        if re_match:\n",
    "            coordinate_1 = (int(re_match.group(1)), int(re_match.group(2)))\n",
    "            coordinate_2 = (int(re_match.group(3)), int(re_match.group(4)))\n",
    "            lines.append([coordinate_1, coordinate_2])\n",
    "        else:\n",
    "            print(\"Failed to match line coordinates\")\n",
    "    return lines"
   ]
  },
  {
   "cell_type": "code",
   "execution_count": 344,
   "metadata": {},
   "outputs": [],
   "source": [
    "from collections import Counter\n",
    "\n",
    "def horizontal_line(line: list) -> bool:\n",
    "    x1 = line[0][0]\n",
    "    x2 = line[1][0]\n",
    "\n",
    "    if x1 == x2:\n",
    "        return True\n",
    "    return False\n",
    "\n",
    "\n",
    "def vertical_line(line: int) -> bool:\n",
    "    y1 = line[0][1]\n",
    "    y2 = line[1][1]\n",
    "\n",
    "    if y1 == y2:\n",
    "        return True\n",
    "    return False\n",
    "\n",
    "\n",
    "def diagnonal_line(line: int) -> bool:\n",
    "    return not (horizontal_line(line) or vertical_line(line))\n",
    "\n",
    "\n",
    "def get_line_coordinates(line: list) -> list:\n",
    "    x1, x2 = line[0][0], line[1][0]\n",
    "    y1, y2 = line[0][1], line[1][1]\n",
    "    delta_x = x2 - x1\n",
    "    delta_y = y2 - y1\n",
    "    delta = (delta_x, delta_y)\n",
    "    steps = max([abs(delta_x), abs(delta_y)])\n",
    "    step_delta = tuple(int(d / steps) for d in delta)\n",
    "\n",
    "    coordinates = [(x1, y1)]\n",
    "\n",
    "    for i in range(steps):\n",
    "        x1 += step_delta[0]\n",
    "        y1 += step_delta[1]\n",
    "        coordinates.append((x1, y1))\n",
    "\n",
    "    return coordinates"
   ]
  },
  {
   "cell_type": "markdown",
   "metadata": {},
   "source": [
    "# Part 1"
   ]
  },
  {
   "cell_type": "code",
   "execution_count": 345,
   "metadata": {},
   "outputs": [
    {
     "name": "stdout",
     "output_type": "stream",
     "text": [
      "Lines with at least 2 overlapping points: 5698\n"
     ]
    }
   ],
   "source": [
    "with open(\"input\", \"r\") as file:\n",
    "    lines = process_input(file.read().splitlines())\n",
    "\n",
    "# Remove diagonal lines\n",
    "lines = [line for line in lines if not diagnonal_line(line)]\n",
    "\n",
    "line_coordinates = [get_line_coordinates(line) for line in lines]\n",
    "all_coordinates = [item for sublist in line_coordinates for item in sublist]\n",
    "counter = Counter(all_coordinates)\n",
    "print(f\"Lines with at least 2 overlapping points: {len([v for v in dict(counter).values() if v >= 2])}\")"
   ]
  },
  {
   "cell_type": "markdown",
   "metadata": {},
   "source": [
    "# Part 2"
   ]
  },
  {
   "cell_type": "code",
   "execution_count": 346,
   "metadata": {},
   "outputs": [
    {
     "name": "stdout",
     "output_type": "stream",
     "text": [
      "Lines with at least 2 overlapping points: 15463\n"
     ]
    }
   ],
   "source": [
    "with open(\"input\", \"r\") as file:\n",
    "    lines = process_input(file.read().splitlines())\n",
    "\n",
    "line_coordinates = [get_line_coordinates(line) for line in lines]\n",
    "all_coordinates = [item for sublist in line_coordinates for item in sublist]\n",
    "counter = Counter(all_coordinates)\n",
    "print(f\"Lines with at least 2 overlapping points: {len([v for v in dict(counter).values() if v >= 2])}\")"
   ]
  }
 ],
 "metadata": {
  "interpreter": {
   "hash": "f9f85f796d01129d0dd105a088854619f454435301f6ffec2fea96ecbd9be4ac"
  },
  "kernelspec": {
   "display_name": "Python 3.9.9 64-bit",
   "language": "python",
   "name": "python3"
  },
  "language_info": {
   "codemirror_mode": {
    "name": "ipython",
    "version": 3
   },
   "file_extension": ".py",
   "mimetype": "text/x-python",
   "name": "python",
   "nbconvert_exporter": "python",
   "pygments_lexer": "ipython3",
   "version": "3.9.9"
  },
  "orig_nbformat": 4
 },
 "nbformat": 4,
 "nbformat_minor": 2
}
